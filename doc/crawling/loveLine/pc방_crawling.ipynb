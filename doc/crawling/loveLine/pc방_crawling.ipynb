{
 "cells": [
  {
   "cell_type": "code",
   "execution_count": 18,
   "metadata": {},
   "outputs": [],
   "source": [
    "import pandas as pd\n",
    "from selenium import webdriver\n",
    "from selenium.webdriver.chrome.options import Options\n",
    "from time import sleep\n",
    "from selenium.webdriver.common.proxy import Proxy, ProxyType\n",
    "\n",
    "CHROMEDRIVER_PATH = './drivers/chromedriver.exe' # Windows는 chromedriver.exe로 변경\n",
    "WINDOW_SIZE = \"1920,1080\"\n",
    " \n",
    "chrome_options = Options()\n",
    "chrome_options.add_argument( \"--headless\" )     # 크롬창이 열리지 않음\n",
    "chrome_options.add_argument( \"--no-sandbox\" )   # GUI를 사용할 수 없는 환경에서 설정, linux, docker 등\n",
    "chrome_options.add_argument( \"--disable-gpu\" )  # GUI를 사용할 수 없는 환경에서 설정, linux, docker 등\n",
    "chrome_options.add_argument(\"user-agent=Mozilla/5.0 (Windows NT 6.1; WOW64; Trident/7.0; rv:11.0) like Gecko\")\n",
    "\n",
    "chrome_options.add_argument(f\"--window-size={ WINDOW_SIZE }\")\n",
    "chrome_options.add_argument('Content-Type=application/json; charset=utf-8')"
   ]
  },
  {
   "cell_type": "code",
   "execution_count": 19,
   "metadata": {},
   "outputs": [],
   "source": [
    "from tqdm import tqdm"
   ]
  },
  {
   "cell_type": "code",
   "execution_count": 20,
   "metadata": {},
   "outputs": [],
   "source": [
    "links = pd.read_csv('./data/음식점.csv')"
   ]
  },
  {
   "cell_type": "code",
   "execution_count": 21,
   "metadata": {},
   "outputs": [
    {
     "name": "stderr",
     "output_type": "stream",
     "text": [
      "c:\\users\\user\\appdata\\local\\programs\\python\\python37\\lib\\site-packages\\ipykernel_launcher.py:11: DeprecationWarning: use options instead of chrome_options\n",
      "  # This is added back by InteractiveShellApp.init_path()\n"
     ]
    }
   ],
   "source": [
    "# PROXY = \"202.169.255.7:8181\" # IP:Port\n",
    "\n",
    "# webdriver.DesiredCapabilities.CHROME['proxy']={\n",
    "#     \"httpProxy\":PROXY,\n",
    "#     \"ftpProxy\":PROXY,\n",
    "#     \"sslProxy\":PROXY,\n",
    "#     \"noProxy\":None,\n",
    "#     \"proxyType\":\"MANUAL\",\n",
    "#     \"autodetect\":False\n",
    "# }\n",
    "driver = webdriver.Chrome( executable_path=CHROMEDRIVER_PATH, chrome_options=chrome_options )\n",
    "driver.get(\"https://www.google.com\")"
   ]
  },
  {
   "cell_type": "code",
   "execution_count": 22,
   "metadata": {},
   "outputs": [],
   "source": [
    "def get_reviews():\n",
    "    reviews = []\n",
    "    try:\n",
    "        page_cnt = 2\n",
    "        btn = None\n",
    "        while True:\n",
    "            sleep(0.5)\n",
    "            for i in driver.find_element_by_class_name('list_evaluation').find_elements_by_css_selector('li'):\n",
    "                review = {\n",
    "                    \"profile\": i.find_element_by_class_name('profile_info').get_attribute('data-ori'),\n",
    "                    \"rate\": i.find_element_by_class_name('num_rate').text,\n",
    "                    \"content\": i.find_element_by_css_selector('div.comment_info > p > span').text,\n",
    "                    \"user_name\": i.find_element_by_css_selector('div.comment_info > div > a.link_user').get_attribute('data-username'),\n",
    "                    \"write_time\": i.find_element_by_css_selector('div.comment_info > div > span.time_write').text\n",
    "                }\n",
    "                reviews.append(review)\n",
    "\n",
    "            # next 버튼\n",
    "            if page_cnt==6:\n",
    "                next_btn = driver.find_element_by_class_name('btn_next')\n",
    "                if next_btn:\n",
    "                    raise\n",
    "                next_btn.click()\n",
    "                page_cnt = 2\n",
    "                sleep(0.5)\n",
    "\n",
    "            # btn 체크\n",
    "            for i in driver.find_elements_by_css_selector(\"#mArticle > div.cont_evaluation > div.evaluation_review > div > a\"):\n",
    "                if int(i.text)==page_cnt:\n",
    "                    page_cnt += 1\n",
    "                    btn = i\n",
    "                    break\n",
    "            else:\n",
    "                raise\n",
    "            btn.click()\n",
    "    except:\n",
    "        pass\n",
    "\n",
    "    return reviews"
   ]
  },
  {
   "cell_type": "code",
   "execution_count": 23,
   "metadata": {},
   "outputs": [],
   "source": [
    "def check_exists_by_xpath(path):\n",
    "    try:\n",
    "        return driver.find_element_by_xpath(path).text\n",
    "    except:\n",
    "        return None"
   ]
  },
  {
   "cell_type": "code",
   "execution_count": 24,
   "metadata": {},
   "outputs": [],
   "source": [
    "def check_exists_by_class_name(name):\n",
    "    try:\n",
    "        return driver.find_element_by_class_name('txt_location').text\n",
    "    except:\n",
    "        return None"
   ]
  },
  {
   "cell_type": "code",
   "execution_count": 27,
   "metadata": {
    "scrolled": true
   },
   "outputs": [
    {
     "name": "stderr",
     "output_type": "stream",
     "text": [
      " 19%|█▉        | 3514/18340 [3:38:17<15:04:11,  3.66s/it]"
     ]
    },
    {
     "name": "stdout",
     "output_type": "stream",
     "text": [
      "https://place.map.kakao.com/9983951\n"
     ]
    },
    {
     "name": "stderr",
     "output_type": "stream",
     "text": [
      "\r",
      " 19%|█▉        | 3515/18340 [3:38:20<14:57:34,  3.63s/it]"
     ]
    },
    {
     "name": "stdout",
     "output_type": "stream",
     "text": [
      "https://place.map.kakao.com/11288696\n"
     ]
    },
    {
     "name": "stderr",
     "output_type": "stream",
     "text": [
      "\r",
      " 19%|█▉        | 3516/18340 [3:38:24<14:52:14,  3.61s/it]"
     ]
    },
    {
     "name": "stdout",
     "output_type": "stream",
     "text": [
      "https://place.map.kakao.com/11566046\n"
     ]
    },
    {
     "name": "stderr",
     "output_type": "stream",
     "text": [
      "\r",
      " 19%|█▉        | 3517/18340 [3:38:27<14:48:04,  3.59s/it]"
     ]
    },
    {
     "name": "stdout",
     "output_type": "stream",
     "text": [
      "https://place.map.kakao.com/21159390\n"
     ]
    },
    {
     "name": "stderr",
     "output_type": "stream",
     "text": [
      "\r",
      " 19%|█▉        | 3518/18340 [3:38:31<14:45:45,  3.59s/it]"
     ]
    },
    {
     "name": "stdout",
     "output_type": "stream",
     "text": [
      "https://place.map.kakao.com/1321108872\n"
     ]
    },
    {
     "name": "stderr",
     "output_type": "stream",
     "text": [
      "\r",
      " 19%|█▉        | 3519/18340 [3:38:34<14:43:33,  3.58s/it]"
     ]
    },
    {
     "name": "stdout",
     "output_type": "stream",
     "text": [
      "https://place.map.kakao.com/27521621\n"
     ]
    },
    {
     "name": "stderr",
     "output_type": "stream",
     "text": [
      "\r",
      " 19%|█▉        | 3520/18340 [3:38:38<14:41:54,  3.57s/it]"
     ]
    },
    {
     "name": "stdout",
     "output_type": "stream",
     "text": [
      "https://place.map.kakao.com/24785669\n"
     ]
    },
    {
     "name": "stderr",
     "output_type": "stream",
     "text": [
      "\r",
      " 19%|█▉        | 3521/18340 [3:38:42<14:40:35,  3.57s/it]"
     ]
    },
    {
     "name": "stdout",
     "output_type": "stream",
     "text": [
      "https://place.map.kakao.com/1601004803\n"
     ]
    },
    {
     "name": "stderr",
     "output_type": "stream",
     "text": [
      "\r",
      " 19%|█▉        | 3522/18340 [3:38:45<14:39:50,  3.56s/it]"
     ]
    },
    {
     "name": "stdout",
     "output_type": "stream",
     "text": [
      "https://place.map.kakao.com/231141398\n"
     ]
    },
    {
     "name": "stderr",
     "output_type": "stream",
     "text": [
      "\r",
      " 19%|█▉        | 3522/18340 [3:38:49<15:20:37,  3.73s/it]"
     ]
    },
    {
     "name": "stdout",
     "output_type": "stream",
     "text": [
      "https://place.map.kakao.com/21363057\n"
     ]
    },
    {
     "name": "stderr",
     "output_type": "stream",
     "text": [
      "\n"
     ]
    }
   ],
   "source": [
    "result = []\n",
    "except_list = []\n",
    "cnt = 0\n",
    "for link in tqdm(temp_links):\n",
    "    driver.get(link)\n",
    "    sleep(3)\n",
    "    reviews = get_reviews()\n",
    "    try:\n",
    "        data = {\n",
    "            \"id\": int(link.replace('https://place.map.kakao.com/','')),\n",
    "            \"title\": check_exists_by_xpath('//*[@id=\"mArticle\"]/div[1]/div[1]/div[2]/div/h2'),\n",
    "            \"address\": check_exists_by_xpath('//*[@id=\"mArticle\"]/div[1]/div[2]/div[1]/div/span[1]'),\n",
    "            \"phone\": check_exists_by_xpath('//*[@id=\"mArticle\"]/div[1]/div[2]/div[2]/div/div/span/span[1]'),\n",
    "            \"category\": '음식점 | ' + check_exists_by_class_name('txt_location'),\n",
    "            \"reviews\": reviews,\n",
    "        }\n",
    "        result.append(data)\n",
    "    except:\n",
    "        cnt += 1\n",
    "        print(link)\n",
    "        except_list.append(link)\n",
    "        if cnt>=10:\n",
    "            break"
   ]
  },
  {
   "cell_type": "code",
   "execution_count": 23,
   "metadata": {},
   "outputs": [],
   "source": [
    "# 0 ~ 3582 까지 했음...."
   ]
  },
  {
   "cell_type": "code",
   "execution_count": 8,
   "metadata": {},
   "outputs": [],
   "source": [
    "# 여기부서부터!!!\n",
    "temp = links['0'].loc[3583:]"
   ]
  },
  {
   "cell_type": "code",
   "execution_count": 43,
   "metadata": {},
   "outputs": [],
   "source": [
    "temp1 = links['0'].loc[3583+759+895+62+2:]"
   ]
  },
  {
   "cell_type": "code",
   "execution_count": 30,
   "metadata": {},
   "outputs": [
    {
     "data": {
      "text/plain": [
       "10719       https://place.map.kakao.com/9983951\n",
       "10720      https://place.map.kakao.com/11288696\n",
       "10721      https://place.map.kakao.com/11566046\n",
       "10722      https://place.map.kakao.com/21159390\n",
       "10723    https://place.map.kakao.com/1321108872\n",
       "                          ...                  \n",
       "25541      https://place.map.kakao.com/16456661\n",
       "25542    https://place.map.kakao.com/1147685619\n",
       "25543       https://place.map.kakao.com/8012297\n",
       "25544     https://place.map.kakao.com/509640969\n",
       "25545      https://place.map.kakao.com/16663645\n",
       "Name: 0, Length: 14827, dtype: object"
      ]
     },
     "execution_count": 30,
     "metadata": {},
     "output_type": "execute_result"
    }
   ],
   "source": [
    "temp2 = links['0'].loc[10719:]\n",
    "temp2"
   ]
  },
  {
   "cell_type": "code",
   "execution_count": 28,
   "metadata": {},
   "outputs": [
    {
     "data": {
      "text/html": [
       "<div>\n",
       "<style scoped>\n",
       "    .dataframe tbody tr th:only-of-type {\n",
       "        vertical-align: middle;\n",
       "    }\n",
       "\n",
       "    .dataframe tbody tr th {\n",
       "        vertical-align: top;\n",
       "    }\n",
       "\n",
       "    .dataframe thead th {\n",
       "        text-align: right;\n",
       "    }\n",
       "</style>\n",
       "<table border=\"1\" class=\"dataframe\">\n",
       "  <thead>\n",
       "    <tr style=\"text-align: right;\">\n",
       "      <th></th>\n",
       "      <th>Unnamed: 0</th>\n",
       "      <th>0</th>\n",
       "    </tr>\n",
       "  </thead>\n",
       "  <tbody>\n",
       "    <tr>\n",
       "      <th>10719</th>\n",
       "      <td>10719</td>\n",
       "      <td>https://place.map.kakao.com/9983951</td>\n",
       "    </tr>\n",
       "  </tbody>\n",
       "</table>\n",
       "</div>"
      ],
      "text/plain": [
       "       Unnamed: 0                                    0\n",
       "10719       10719  https://place.map.kakao.com/9983951"
      ]
     },
     "execution_count": 28,
     "metadata": {},
     "output_type": "execute_result"
    }
   ],
   "source": [
    "links[links['0']==\"https://place.map.kakao.com/9983951\"]"
   ]
  },
  {
   "cell_type": "code",
   "execution_count": 32,
   "metadata": {},
   "outputs": [
    {
     "data": {
      "text/plain": [
       "3513"
      ]
     },
     "execution_count": 32,
     "metadata": {},
     "output_type": "execute_result"
    }
   ],
   "source": [
    "len(result)"
   ]
  },
  {
   "cell_type": "code",
   "execution_count": 55,
   "metadata": {
    "scrolled": false
   },
   "outputs": [],
   "source": [
    "df = pd.DataFrame(data=result, columns=[\"id\", \"title\", \"address\", \"phone\", \"reviews\"])\n",
    "df.to_csv('data_PC방.csv',sep=\"|\")"
   ]
  },
  {
   "cell_type": "code",
   "execution_count": 52,
   "metadata": {},
   "outputs": [],
   "source": [
    "import json"
   ]
  },
  {
   "cell_type": "code",
   "execution_count": null,
   "metadata": {},
   "outputs": [],
   "source": [
    "toJson(mnet_dict)"
   ]
  },
  {
   "cell_type": "code",
   "execution_count": 33,
   "metadata": {},
   "outputs": [],
   "source": [
    "with open('음식점3513.json', 'w', encoding='utf-8') as file :\n",
    "        json.dump(result, file, ensure_ascii=False, indent='\\t')"
   ]
  }
 ],
 "metadata": {
  "kernelspec": {
   "display_name": "Python 3",
   "language": "python",
   "name": "python3"
  },
  "language_info": {
   "codemirror_mode": {
    "name": "ipython",
    "version": 3
   },
   "file_extension": ".py",
   "mimetype": "text/x-python",
   "name": "python",
   "nbconvert_exporter": "python",
   "pygments_lexer": "ipython3",
   "version": "3.7.3"
  }
 },
 "nbformat": 4,
 "nbformat_minor": 4
}
